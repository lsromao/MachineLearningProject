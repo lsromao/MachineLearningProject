{
 "cells": [
  {
   "cell_type": "markdown",
   "metadata": {},
   "source": [
    "## <center>Visual Concept Detection Task</center>"
   ]
  },
  {
   "cell_type": "markdown",
   "metadata": {},
   "source": [
    "### Group:\n",
    " - Nooshin Shojaee\n",
    " - Francesco Ciraolo\n",
    " - Lucas Souza Romao\n",
    "     - Student#: 0190727830"
   ]
  },
  {
   "cell_type": "markdown",
   "metadata": {},
   "source": [
    "### Introduction"
   ]
  },
  {
   "cell_type": "markdown",
   "metadata": {},
   "source": [
    "As part of the evaluation of the semester a challenge was given based on ImageCLEF 2008: Visual Concept Detection Task [[1]](#1).\n",
    "This challenge utilizes the IAPR TC-12 dataset that contains a split in the train set with x images and a test set with x images. Each of these images can have more than one classification associated with it. As it is a multi-classification problem the decision was to utilize a convolutional neural network (CNN), for better accuracy we decide to move forward in the utilization of EfficientNet as the main model, it provides us better results than ResNet50.\n",
    "In the next sections, we will be giving a walkthrough of the code."
   ]
  },
  {
   "cell_type": "markdown",
   "metadata": {},
   "source": [
    "### Enviroments Setup"
   ]
  },
  {
   "cell_type": "markdown",
   "metadata": {},
   "source": [
    "As the frameworks we will be mainly utilizing Keras that runs on top the Tensorflow [[2]](#2) plataform, also to support the plot of the images matplot and seaborn are being used."
   ]
  },
  {
   "cell_type": "code",
   "execution_count": 10,
   "metadata": {},
   "outputs": [],
   "source": [
    "import pandas as pd\n",
    "import numpy as np\n",
    "import os\n",
    "\n",
    "from tensorflow.keras.preprocessing.image import ImageDataGenerator\n",
    "from tensorflow.keras.callbacks import ReduceLROnPlateau\n",
    "\n",
    "from tensorflow.keras.preprocessing.image import ImageDataGenerator\n",
    "from tensorflow.keras import regularizers, optimizers\n",
    "from tensorflow.keras.models import Sequential\n",
    "import tensorflow.keras.layers as layers\n",
    "\n",
    "from PIL import Image\n",
    "import imghdr\n",
    "\n",
    "import matplotlib.pyplot as plt\n",
    "import matplotlib.style as style\n",
    "\n",
    "import seaborn as sns\n",
    "\n",
    "from sklearn.model_selection import train_test_split"
   ]
  },
  {
   "cell_type": "markdown",
   "metadata": {},
   "source": [
    "### Understading the data"
   ]
  },
  {
   "cell_type": "code",
   "execution_count": 9,
   "metadata": {},
   "outputs": [],
   "source": [
    "train_pics_dir = './train/train/'\n",
    "test_pics_dir = './test/test/'\n",
    "#test_pics_dir = '/home/lucas/Documents/ML_FinalProject/test/test/'"
   ]
  },
  {
   "cell_type": "code",
   "execution_count": 12,
   "metadata": {},
   "outputs": [
    {
     "data": {
      "text/html": [
       "<div>\n",
       "<style scoped>\n",
       "    .dataframe tbody tr th:only-of-type {\n",
       "        vertical-align: middle;\n",
       "    }\n",
       "\n",
       "    .dataframe tbody tr th {\n",
       "        vertical-align: top;\n",
       "    }\n",
       "\n",
       "    .dataframe thead th {\n",
       "        text-align: right;\n",
       "    }\n",
       "</style>\n",
       "<table border=\"1\" class=\"dataframe\">\n",
       "  <thead>\n",
       "    <tr style=\"text-align: right;\">\n",
       "      <th></th>\n",
       "      <th>file_name</th>\n",
       "      <th>indoor</th>\n",
       "      <th>outdoor</th>\n",
       "      <th>person</th>\n",
       "      <th>day</th>\n",
       "      <th>night</th>\n",
       "      <th>water</th>\n",
       "      <th>road</th>\n",
       "      <th>vegetation</th>\n",
       "      <th>tree</th>\n",
       "      <th>mountains</th>\n",
       "      <th>beach</th>\n",
       "      <th>buildings</th>\n",
       "      <th>sky</th>\n",
       "      <th>sunny</th>\n",
       "      <th>partly_cloudy</th>\n",
       "      <th>overcast</th>\n",
       "      <th>animal</th>\n",
       "    </tr>\n",
       "  </thead>\n",
       "  <tbody>\n",
       "    <tr>\n",
       "      <th>0</th>\n",
       "      <td>27-27707.jpg</td>\n",
       "      <td>0</td>\n",
       "      <td>0</td>\n",
       "      <td>0</td>\n",
       "      <td>0</td>\n",
       "      <td>0</td>\n",
       "      <td>0</td>\n",
       "      <td>0</td>\n",
       "      <td>0</td>\n",
       "      <td>0</td>\n",
       "      <td>1</td>\n",
       "      <td>0</td>\n",
       "      <td>0</td>\n",
       "      <td>1</td>\n",
       "      <td>0</td>\n",
       "      <td>1</td>\n",
       "      <td>0</td>\n",
       "      <td>1</td>\n",
       "    </tr>\n",
       "    <tr>\n",
       "      <th>1</th>\n",
       "      <td>27-27708.jpg</td>\n",
       "      <td>0</td>\n",
       "      <td>1</td>\n",
       "      <td>0</td>\n",
       "      <td>0</td>\n",
       "      <td>0</td>\n",
       "      <td>0</td>\n",
       "      <td>1</td>\n",
       "      <td>0</td>\n",
       "      <td>0</td>\n",
       "      <td>0</td>\n",
       "      <td>0</td>\n",
       "      <td>0</td>\n",
       "      <td>1</td>\n",
       "      <td>0</td>\n",
       "      <td>1</td>\n",
       "      <td>0</td>\n",
       "      <td>0</td>\n",
       "    </tr>\n",
       "    <tr>\n",
       "      <th>2</th>\n",
       "      <td>27-27711.jpg</td>\n",
       "      <td>0</td>\n",
       "      <td>1</td>\n",
       "      <td>1</td>\n",
       "      <td>0</td>\n",
       "      <td>0</td>\n",
       "      <td>0</td>\n",
       "      <td>1</td>\n",
       "      <td>1</td>\n",
       "      <td>1</td>\n",
       "      <td>1</td>\n",
       "      <td>0</td>\n",
       "      <td>0</td>\n",
       "      <td>1</td>\n",
       "      <td>0</td>\n",
       "      <td>0</td>\n",
       "      <td>1</td>\n",
       "      <td>0</td>\n",
       "    </tr>\n",
       "    <tr>\n",
       "      <th>3</th>\n",
       "      <td>27-27713.jpg</td>\n",
       "      <td>0</td>\n",
       "      <td>1</td>\n",
       "      <td>0</td>\n",
       "      <td>0</td>\n",
       "      <td>0</td>\n",
       "      <td>0</td>\n",
       "      <td>0</td>\n",
       "      <td>0</td>\n",
       "      <td>0</td>\n",
       "      <td>1</td>\n",
       "      <td>0</td>\n",
       "      <td>0</td>\n",
       "      <td>1</td>\n",
       "      <td>0</td>\n",
       "      <td>0</td>\n",
       "      <td>1</td>\n",
       "      <td>0</td>\n",
       "    </tr>\n",
       "    <tr>\n",
       "      <th>4</th>\n",
       "      <td>27-27715.jpg</td>\n",
       "      <td>0</td>\n",
       "      <td>1</td>\n",
       "      <td>0</td>\n",
       "      <td>0</td>\n",
       "      <td>0</td>\n",
       "      <td>1</td>\n",
       "      <td>0</td>\n",
       "      <td>0</td>\n",
       "      <td>0</td>\n",
       "      <td>0</td>\n",
       "      <td>1</td>\n",
       "      <td>1</td>\n",
       "      <td>1</td>\n",
       "      <td>0</td>\n",
       "      <td>1</td>\n",
       "      <td>0</td>\n",
       "      <td>0</td>\n",
       "    </tr>\n",
       "  </tbody>\n",
       "</table>\n",
       "</div>"
      ],
      "text/plain": [
       "      file_name  indoor  outdoor  person  day  night  water  road  vegetation  \\\n",
       "0  27-27707.jpg       0        0       0    0      0      0     0           0   \n",
       "1  27-27708.jpg       0        1       0    0      0      0     1           0   \n",
       "2  27-27711.jpg       0        1       1    0      0      0     1           1   \n",
       "3  27-27713.jpg       0        1       0    0      0      0     0           0   \n",
       "4  27-27715.jpg       0        1       0    0      0      1     0           0   \n",
       "\n",
       "   tree  mountains  beach  buildings  sky  sunny  partly_cloudy  overcast  \\\n",
       "0     0          1      0          0    1      0              1         0   \n",
       "1     0          0      0          0    1      0              1         0   \n",
       "2     1          1      0          0    1      0              0         1   \n",
       "3     0          1      0          0    1      0              0         1   \n",
       "4     0          0      1          1    1      0              1         0   \n",
       "\n",
       "   animal  \n",
       "0       1  \n",
       "1       0  \n",
       "2       0  \n",
       "3       0  \n",
       "4       0  "
      ]
     },
     "execution_count": 12,
     "metadata": {},
     "output_type": "execute_result"
    }
   ],
   "source": [
    "test_df = pd.read_csv('test/test.anno.txt', sep=\" \")\n",
    "labels = test_df.columns\n",
    "file_names = test_df['file_name']\n",
    "#test_df['file_name'] = test_df['file_name'].apply(lambda x: os.path.join(test_pics_dir, x))\n",
    "#test_df['classes'] = test_df.loc[:, (test_df.columns != 'file_name')].values.tolist()\n",
    "test_df.head()"
   ]
  },
  {
   "cell_type": "code",
   "execution_count": 15,
   "metadata": {},
   "outputs": [
    {
     "data": {
      "text/html": [
       "<div>\n",
       "<style scoped>\n",
       "    .dataframe tbody tr th:only-of-type {\n",
       "        vertical-align: middle;\n",
       "    }\n",
       "\n",
       "    .dataframe tbody tr th {\n",
       "        vertical-align: top;\n",
       "    }\n",
       "\n",
       "    .dataframe thead th {\n",
       "        text-align: right;\n",
       "    }\n",
       "</style>\n",
       "<table border=\"1\" class=\"dataframe\">\n",
       "  <thead>\n",
       "    <tr style=\"text-align: right;\">\n",
       "      <th></th>\n",
       "      <th>file_name</th>\n",
       "      <th>indoor</th>\n",
       "      <th>outdoor</th>\n",
       "      <th>person</th>\n",
       "      <th>day</th>\n",
       "      <th>night</th>\n",
       "      <th>water</th>\n",
       "      <th>road</th>\n",
       "      <th>vegetation</th>\n",
       "      <th>tree</th>\n",
       "      <th>mountains</th>\n",
       "      <th>beach</th>\n",
       "      <th>buildings</th>\n",
       "      <th>sky</th>\n",
       "      <th>sunny</th>\n",
       "      <th>partly_cloudy</th>\n",
       "      <th>overcast</th>\n",
       "      <th>animal</th>\n",
       "    </tr>\n",
       "  </thead>\n",
       "  <tbody>\n",
       "    <tr>\n",
       "      <th>0</th>\n",
       "      <td>27-27700.jpg</td>\n",
       "      <td>0</td>\n",
       "      <td>1</td>\n",
       "      <td>0</td>\n",
       "      <td>0</td>\n",
       "      <td>1</td>\n",
       "      <td>0</td>\n",
       "      <td>0</td>\n",
       "      <td>1</td>\n",
       "      <td>1</td>\n",
       "      <td>1</td>\n",
       "      <td>0</td>\n",
       "      <td>0</td>\n",
       "      <td>1</td>\n",
       "      <td>0</td>\n",
       "      <td>0</td>\n",
       "      <td>0</td>\n",
       "      <td>0</td>\n",
       "    </tr>\n",
       "    <tr>\n",
       "      <th>1</th>\n",
       "      <td>27-27704.jpg</td>\n",
       "      <td>0</td>\n",
       "      <td>1</td>\n",
       "      <td>0</td>\n",
       "      <td>1</td>\n",
       "      <td>0</td>\n",
       "      <td>0</td>\n",
       "      <td>0</td>\n",
       "      <td>0</td>\n",
       "      <td>0</td>\n",
       "      <td>1</td>\n",
       "      <td>0</td>\n",
       "      <td>0</td>\n",
       "      <td>1</td>\n",
       "      <td>0</td>\n",
       "      <td>1</td>\n",
       "      <td>0</td>\n",
       "      <td>0</td>\n",
       "    </tr>\n",
       "    <tr>\n",
       "      <th>2</th>\n",
       "      <td>27-27705.jpg</td>\n",
       "      <td>0</td>\n",
       "      <td>1</td>\n",
       "      <td>0</td>\n",
       "      <td>0</td>\n",
       "      <td>1</td>\n",
       "      <td>0</td>\n",
       "      <td>0</td>\n",
       "      <td>1</td>\n",
       "      <td>0</td>\n",
       "      <td>1</td>\n",
       "      <td>0</td>\n",
       "      <td>0</td>\n",
       "      <td>1</td>\n",
       "      <td>0</td>\n",
       "      <td>0</td>\n",
       "      <td>1</td>\n",
       "      <td>0</td>\n",
       "    </tr>\n",
       "    <tr>\n",
       "      <th>3</th>\n",
       "      <td>27-27706.jpg</td>\n",
       "      <td>1</td>\n",
       "      <td>0</td>\n",
       "      <td>0</td>\n",
       "      <td>0</td>\n",
       "      <td>0</td>\n",
       "      <td>0</td>\n",
       "      <td>0</td>\n",
       "      <td>0</td>\n",
       "      <td>0</td>\n",
       "      <td>0</td>\n",
       "      <td>0</td>\n",
       "      <td>0</td>\n",
       "      <td>0</td>\n",
       "      <td>0</td>\n",
       "      <td>0</td>\n",
       "      <td>0</td>\n",
       "      <td>0</td>\n",
       "    </tr>\n",
       "    <tr>\n",
       "      <th>4</th>\n",
       "      <td>27-27709.jpg</td>\n",
       "      <td>0</td>\n",
       "      <td>1</td>\n",
       "      <td>0</td>\n",
       "      <td>1</td>\n",
       "      <td>0</td>\n",
       "      <td>0</td>\n",
       "      <td>1</td>\n",
       "      <td>0</td>\n",
       "      <td>0</td>\n",
       "      <td>0</td>\n",
       "      <td>0</td>\n",
       "      <td>0</td>\n",
       "      <td>1</td>\n",
       "      <td>0</td>\n",
       "      <td>0</td>\n",
       "      <td>1</td>\n",
       "      <td>0</td>\n",
       "    </tr>\n",
       "  </tbody>\n",
       "</table>\n",
       "</div>"
      ],
      "text/plain": [
       "      file_name  indoor  outdoor  person  day  night  water  road  vegetation  \\\n",
       "0  27-27700.jpg       0        1       0    0      1      0     0           1   \n",
       "1  27-27704.jpg       0        1       0    1      0      0     0           0   \n",
       "2  27-27705.jpg       0        1       0    0      1      0     0           1   \n",
       "3  27-27706.jpg       1        0       0    0      0      0     0           0   \n",
       "4  27-27709.jpg       0        1       0    1      0      0     1           0   \n",
       "\n",
       "   tree  mountains  beach  buildings  sky  sunny  partly_cloudy  overcast  \\\n",
       "0     1          1      0          0    1      0              0         0   \n",
       "1     0          1      0          0    1      0              1         0   \n",
       "2     0          1      0          0    1      0              0         1   \n",
       "3     0          0      0          0    0      0              0         0   \n",
       "4     0          0      0          0    1      0              0         1   \n",
       "\n",
       "   animal  \n",
       "0       0  \n",
       "1       0  \n",
       "2       0  \n",
       "3       0  \n",
       "4       0  "
      ]
     },
     "execution_count": 15,
     "metadata": {},
     "output_type": "execute_result"
    }
   ],
   "source": [
    "train_df = pd.read_csv('train/train.anno.txt', sep=\" \", names=labels)\n",
    "#train_df['file_name'] = train_df['file_name'].apply(lambda x: os.path.join(train_pics_dir, x))\n",
    "#train_df['classes'] = add_labels_dataframe(train_df)\n",
    "#train_df['classes'] = train_df.loc[:, (train_df.columns != 'file_name')].values.tolist()\n",
    "train_df.head()\n",
    "#columns = train_df.columns[0:18].tolist()"
   ]
  },
  {
   "cell_type": "code",
   "execution_count": 30,
   "metadata": {},
   "outputs": [
    {
     "data": {
      "image/png": "[encoded data removed]",
      "text/plain": [
       "<Figure size 576x576 with 1 Axes>"
      ]
     },
     "metadata": {},
     "output_type": "display_data"
    }
   ],
   "source": [
    "labels_freq = []\n",
    "\n",
    "for column in train_df:\n",
    "    if train_df[column].name != 'file_name' and train_df[column].name != 'classes':\n",
    "        labels_freq.append(\n",
    "            [train_df[column].name, \n",
    "            train_df[column].value_counts()[1]\n",
    "            ])\n",
    "    df_labels_freq = pd.DataFrame(labels_freq, columns = ['Label', 'Count']).sort_values(by=['Count'], ascending=False)\n",
    "\n",
    "style.use(\"fivethirtyeight\")\n",
    "plt.figure(figsize=(8,8))\n",
    "sns.barplot(y=df_labels_freq.Label, x=df_labels_freq.Count)\n",
    "plt.title(\"Label frequency - Training Set\", fontsize=14)\n",
    "plt.xlabel(\"\")\n",
    "plt.ylabel(\"\")\n",
    "plt.xticks(fontsize=12)\n",
    "plt.yticks(fontsize=12)\n",
    "plt.show()"
   ]
  },
  {
   "cell_type": "markdown",
   "metadata": {},
   "source": [
    "As it can be noticed in the plot above, our train set is imbalance, it will be a problem for our model because the difference between the majority classes such as outdoor, day and sky and the minority classes such as night, beach and animal, to overcome this problem we tried to use techniques to oversampling the minority ones and under sampling the majority. For it utilized SMOTETomek that is a combination of over and under sampling using SMOTE and Tomek links.[[3]](#3)\n",
    "However the results after gave us a train set with more than 8 thousand obersavations as it can been seeing below:"
   ]
  },
  {
   "cell_type": "markdown",
   "metadata": {},
   "source": [
    "<img src=\"over.png\">"
   ]
  },
  {
   "cell_type": "markdown",
   "metadata": {},
   "source": [
    "Notice that the classes are more well balanced but still not in the ideal, to have a better view about this effect of a big enlarge in our training set we can see the correlation plot."
   ]
  },
  {
   "cell_type": "code",
   "execution_count": 31,
   "metadata": {},
   "outputs": [
    {
     "data": {
      "text/plain": [
       "<AxesSubplot:>"
      ]
     },
     "execution_count": 31,
     "metadata": {},
     "output_type": "execute_result"
    },
    {
     "data": {
      "image/png": "[encoded data removed]",
      "text/plain": [
       "<Figure size 432x288 with 2 Axes>"
      ]
     },
     "metadata": {},
     "output_type": "display_data"
    }
   ],
   "source": [
    "sns.heatmap(train_df.corr(), linewidths=.5)"
   ]
  },
  {
   "cell_type": "markdown",
   "metadata": {},
   "source": [
    "As we can see the labels are quite well correlated so the under and oversampling doesn't help in our problem as always we can be increasing a majority class by doing oversampling of a minory one, to overcome it the class weights will be calculate in order to give those wieghts as parameters in the model, it will kind say to our model during the training to pay more attention in the labeling."
   ]
  },
  {
   "cell_type": "markdown",
   "metadata": {},
   "source": [
    "### Data Preprocessing\n",
    "\n",
    "- First check if the image are the type 'gif', if yes remove from the DataFrame, train and test set gif type are less than 1% of the total, so the files are drop from the DataFrames"
   ]
  },
  {
   "cell_type": "code",
   "execution_count": null,
   "metadata": {},
   "outputs": [],
   "source": [
    "def filter_images(dataset):\n",
    "    \n",
    "     dataset = dataset.set_index('file_name')\n",
    "     \n",
    "     for file in dataset.index:\n",
    "         if (imghdr.what(file) == 'gif'):\n",
    "            dataset = dataset.drop(file)\n",
    "             \n",
    "     return dataset.reset_index()  "
   ]
  },
  {
   "cell_type": "code",
   "execution_count": null,
   "metadata": {},
   "outputs": [],
   "source": [
    "def add_labels_dataframe(dataset):\n",
    "    \n",
    "    df = dataset.copy()\n",
    "    \n",
    "    for column in df.loc[:, df.columns != 'file_name']:\n",
    "        df[column]= df[column].replace(1,df[column].name)\n",
    "    \n",
    "    df['classes'] = df.loc[:, (df.columns != 'file_name')].values.tolist()\n",
    "    df['classes']= df['classes'].apply(lambda x : list(filter(lambda b: b != 0, x)))\n",
    "    \n",
    "    return df['classes']"
   ]
  },
  {
   "cell_type": "code",
   "execution_count": null,
   "metadata": {},
   "outputs": [],
   "source": [
    "test_df = pd.read_csv('test/test.anno.txt', sep=\" \")\n",
    "labels = test_df.columns\n",
    "file_names = test_df['file_name']\n",
    "test_df['file_name'] = test_df['file_name'].apply(lambda x: os.path.join(test_pics_dir, x))\n",
    "test_df['classes'] = test_df.loc[:, (test_df.columns != 'file_name')].values.tolist()\n",
    "test_df.head()"
   ]
  },
  {
   "cell_type": "code",
   "execution_count": null,
   "metadata": {},
   "outputs": [],
   "source": [
    "train_df = pd.read_csv('train/train.anno.txt', sep=\" \", names=labels)\n",
    "train_df['file_name'] = train_df['file_name'].apply(lambda x: os.path.join(train_pics_dir, x))\n",
    "#train_df['classes'] = add_labels_dataframe(train_df)\n",
    "train_df['classes'] = train_df.loc[:, (train_df.columns != 'file_name')].values.tolist()\n",
    "# train_df.head()\n",
    "columns = train_df.columns[0:18].tolist()"
   ]
  },
  {
   "cell_type": "code",
   "execution_count": null,
   "metadata": {},
   "outputs": [],
   "source": []
  },
  {
   "cell_type": "code",
   "execution_count": null,
   "metadata": {},
   "outputs": [],
   "source": [
    "train_df = filter_images(train_df)"
   ]
  },
  {
   "cell_type": "code",
   "execution_count": null,
   "metadata": {},
   "outputs": [],
   "source": []
  },
  {
   "cell_type": "code",
   "execution_count": null,
   "metadata": {},
   "outputs": [],
   "source": []
  },
  {
   "cell_type": "code",
   "execution_count": null,
   "metadata": {},
   "outputs": [],
   "source": [
    "plot()"
   ]
  },
  {
   "cell_type": "code",
   "execution_count": null,
   "metadata": {},
   "outputs": [],
   "source": [
    "corr = train_df.corr()\n",
    "sns.heatmap(corr, linewidths=.5)"
   ]
  },
  {
   "cell_type": "code",
   "execution_count": null,
   "metadata": {},
   "outputs": [],
   "source": [
    "def plot():\n",
    "    labels_freq = []\n",
    "\n",
    "    for column in train_df:\n",
    "        if train_df[column].name != 'file_name' and train_df[column].name != 'classes':\n",
    "            labels_freq.append(\n",
    "                [train_df[column].name, \n",
    "                 train_df[column].value_counts()[1]\n",
    "                ])\n",
    "\n",
    "    df_labels_freq = pd.DataFrame(labels_freq, columns = ['Label', 'Count']).sort_values(by=['Count'], ascending=False)\n",
    "\n",
    "\n",
    "    # Bar plot\n",
    "    style.use(\"fivethirtyeight\")\n",
    "    plt.figure(figsize=(8,8))\n",
    "    sns.barplot(y=df_labels_freq.Label, x=df_labels_freq.Count)\n",
    "    plt.title(\"Label frequency - Training Set\", fontsize=14)\n",
    "    plt.xlabel(\"\")\n",
    "    plt.ylabel(\"\")\n",
    "    plt.xticks(fontsize=12)\n",
    "    plt.yticks(fontsize=12)\n",
    "    plt.show()\n"
   ]
  },
  {
   "cell_type": "code",
   "execution_count": null,
   "metadata": {},
   "outputs": [],
   "source": [
    "nobs = 4 \n",
    "ncols = 2\n",
    "nrows = nobs//ncols\n",
    "\n",
    "style.use(\"default\")\n",
    "plt.figure(figsize=(12,4*nrows))\n",
    "for i in range(4):\n",
    "    ax = plt.subplot(nrows, ncols, i+1)\n",
    "    plt.imshow(Image.open(train_df['file_name'][i]))\n",
    "    plt.title(train_df['classes'][i], size=8)\n",
    "    plt.axis('off')"
   ]
  },
  {
   "cell_type": "markdown",
   "metadata": {},
   "source": [
    "### Data Argumentation\n",
    "\n",
    "Add here later"
   ]
  },
  {
   "cell_type": "code",
   "execution_count": null,
   "metadata": {},
   "outputs": [],
   "source": [
    "CHANNELS = 3\n",
    "IMG_HEIGHT = 224\n",
    "IMG_WIDTH = 224\n",
    "BATCH_SIZE = 2 \n"
   ]
  },
  {
   "cell_type": "code",
   "execution_count": null,
   "metadata": {},
   "outputs": [],
   "source": [
    "class_weights = {}\n",
    "weights =list()"
   ]
  },
  {
   "cell_type": "code",
   "execution_count": null,
   "metadata": {},
   "outputs": [],
   "source": [
    "index = 0\n",
    "train_size = len(train_df)\n",
    "\n",
    "for column in train_df:\n",
    "    if train_df[column].name != 'file_name' and train_df[column].name != 'classes':\n",
    "        class_weights[index] = len(train_df[train_df[column] == 1]) / train_size\n",
    "        weights.append(len(train_df[train_df[column] == 1]) / train_size)\n",
    "        index += 1"
   ]
  },
  {
   "cell_type": "markdown",
   "metadata": {},
   "source": [
    "### Dataset Generators\n",
    "\n",
    "Easy way "
   ]
  },
  {
   "cell_type": "code",
   "execution_count": null,
   "metadata": {},
   "outputs": [],
   "source": [
    "train_df, val_df = train_test_split(train_df, test_size=0.1)\n",
    "\n",
    "train = ImageDataGenerator(rescale=1./255,\n",
    "                               rotation_range=45,\n",
    "                               shear_range=0.2,\n",
    "                               zoom_range=0.4,\n",
    "                               horizontal_flip=True,\n",
    "                               vertical_flip=True)\n",
    "\n",
    "val = ImageDataGenerator(rescale=1./255)\n",
    "\n",
    "\n",
    "train_data_gen = train.flow_from_dataframe(dataframe=train_df,\n",
    "                                               batch_size=BATCH_SIZE,\n",
    "                                               directory=train_pics_dir,\n",
    "                                               x_col='file_name',\n",
    "                                               y_col=train_df.columns[1:18].tolist(),\n",
    "                                               shuffle=True, seed=42,\n",
    "                                               class_mode=\"raw\",\n",
    "                                               classes=labels[1:].tolist(),\n",
    "                                               target_size=(IMG_HEIGHT, IMG_WIDTH))\n",
    "\n",
    "val_data_gen = val.flow_from_dataframe(dataframe=val_df,\n",
    "                                             batch_size=BATCH_SIZE,\n",
    "                                             directory=train_pics_dir,\n",
    "                                             x_col='file_name',\n",
    "                                             y_col=train_df.columns[1:18].tolist(),\n",
    "                                             shuffle=False, seed=42,\n",
    "                                             class_mode='raw',\n",
    "                                             classes=labels[1:].tolist(),\n",
    "                                             target_size=(IMG_HEIGHT, IMG_WIDTH))\n",
    "\n",
    "# ## We don't want test set to be suffle or have more than one batch size, it need to be almost untouch \n",
    "test_datagen=ImageDataGenerator(rescale=1./255.)\n",
    "test_generator=test_datagen.flow_from_dataframe(dataframe=test_df,\n",
    "                                                directory=test_pics_dir,\n",
    "                                                x_col='file_name',\n",
    "                                                y_col=None,\n",
    "                                                batch_size=1,\n",
    "                                                shuffle=False,\n",
    "                                                class_mode=None,\n",
    "                                                target_size=(IMG_HEIGHT, IMG_WIDTH))"
   ]
  },
  {
   "cell_type": "code",
   "execution_count": null,
   "metadata": {},
   "outputs": [],
   "source": [
    "for i, l in val_data_gen:\n",
    "    plt. imshow(i[1])\n",
    "    print(l[1])\n",
    "    break"
   ]
  },
  {
   "cell_type": "markdown",
   "metadata": {},
   "source": [
    "### Model \n",
    "\n",
    "- Very simple one, needs to improve"
   ]
  },
  {
   "cell_type": "code",
   "execution_count": null,
   "metadata": {},
   "outputs": [],
   "source": [
    "from tensorflow.keras.applications import EfficientNetB2, MobileNetV2, ResNet50"
   ]
  },
  {
   "cell_type": "code",
   "execution_count": null,
   "metadata": {},
   "outputs": [],
   "source": []
  },
  {
   "cell_type": "code",
   "execution_count": null,
   "metadata": {},
   "outputs": [],
   "source": [
    "effic_b2 = EfficientNetB2(weights=None, include_top=False, drop_connect_rate=0.2, pooling='avg', input_shape=(IMG_WIDTH, IMG_HEIGHT, CHANNELS))\n"
   ]
  },
  {
   "cell_type": "code",
   "execution_count": null,
   "metadata": {},
   "outputs": [],
   "source": []
  },
  {
   "cell_type": "code",
   "execution_count": null,
   "metadata": {},
   "outputs": [],
   "source": [
    "v2 = MobileNetV2(weights='imagenet', include_top=False,classes=17, pooling='avg', input_shape=(IMG_WIDTH, IMG_HEIGHT, CHANNELS))\n"
   ]
  },
  {
   "cell_type": "code",
   "execution_count": null,
   "metadata": {},
   "outputs": [],
   "source": [
    "res50 = ResNet50(weights=None ,pooling='avg', include_top=False, input_shape=(IMG_WIDTH, IMG_HEIGHT, CHANNELS))"
   ]
  },
  {
   "cell_type": "code",
   "execution_count": null,
   "metadata": {},
   "outputs": [],
   "source": []
  },
  {
   "cell_type": "code",
   "execution_count": null,
   "metadata": {},
   "outputs": [],
   "source": [
    "model = Sequential()\n",
    "model.add(effic_b2)\n",
    "model.add(layers.core.Dense(512, activation='relu'))\n",
    "model.add(layers.core.Dropout(0.2))\n",
    "model.add(layers.core.Dense(17, activation='sigmoid'))\n",
    "\n",
    "model.summary()"
   ]
  },
  {
   "cell_type": "code",
   "execution_count": null,
   "metadata": {},
   "outputs": [],
   "source": [
    "#opt = optimizers.SGD(lr=1e-5, momentum=0.9)\n",
    "#model.compile(optimizers.Adam(lr=1e-5),loss=\"categorical_crossentropy\",metrics=[\"accuracy\"])\n",
    "#model.compile(optimizer=opt,loss = 'categorical_crossentropy', metrics = ['accuracy'])\n",
    "#model.compile(optimizers.Adam(lr=1e-5),loss=\"categorical_crossentropy\",metrics=[\"accuracy\"])\n",
    "model.compile(optimizer='adam',loss=\"binary_crossentropy\",metrics=[\"accuracy\"])"
   ]
  },
  {
   "cell_type": "code",
   "execution_count": null,
   "metadata": {},
   "outputs": [],
   "source": []
  },
  {
   "cell_type": "code",
   "execution_count": null,
   "metadata": {},
   "outputs": [],
   "source": [
    "earlystop_callback = EarlyStopping(\n",
    "  monitor='val_loss', mode='auto', min_delta=0.0001,\n",
    "  patience=5)\n",
    "\n",
    "rlr = ReduceLROnPlateau(monitor='val_loss', \n",
    "                        factor=0.5, \n",
    "                        patience=3, \n",
    "                        verbose=1,\n",
    "                        mode='auto', \n",
    "                        min_delta=0.0001)"
   ]
  },
  {
   "cell_type": "code",
   "execution_count": null,
   "metadata": {},
   "outputs": [],
   "source": [
    "with tf.device('/gpu:0'):\n",
    "    model_trained = model.fit(\n",
    "            train_data_gen,\n",
    "        steps_per_epoch=train_data_gen.n//train_data_gen.batch_size,\n",
    "            epochs = 2,\n",
    "            callbacks=[rlr],\n",
    "            validation_data=val_data_gen,\n",
    "        validation_steps=val_data_gen.n//val_data_gen.batch_size,\n",
    "        class_weight=class_weights\n",
    "    )"
   ]
  },
  {
   "cell_type": "code",
   "execution_count": null,
   "metadata": {},
   "outputs": [],
   "source": []
  },
  {
   "cell_type": "code",
   "execution_count": null,
   "metadata": {},
   "outputs": [],
   "source": [
    "#plot the training and validation accuracy and loss at each epoch\n",
    "loss = model_trained.history['loss']\n",
    "val_loss = model_trained.history['val_loss']\n",
    "epochs = range(1, len(loss) + 1)\n",
    "plt.plot(epochs, loss, 'y', label='Training loss')\n",
    "plt.plot(epochs, val_loss, 'r', label='Validation loss')\n",
    "plt.title('Training and validation loss')\n",
    "plt.xlabel('Epochs')\n",
    "plt.ylabel('Loss')\n",
    "plt.legend()\n",
    "plt.show()\n",
    "plt.savefig"
   ]
  },
  {
   "cell_type": "code",
   "execution_count": null,
   "metadata": {},
   "outputs": [],
   "source": [
    "test_generator.reset()\n",
    "np.set_printoptions(precision=2)\n",
    "yhat = model_trained.model.predict(test_generator)"
   ]
  },
  {
   "cell_type": "code",
   "execution_count": null,
   "metadata": {},
   "outputs": [],
   "source": [
    "from sklearn.metrics import precision_recall_curve\n",
    "from sklearn.metrics import roc_auc_score\n",
    "\n",
    "out = []\n",
    "test_classes = np.array(list(test_df.classes.values))\n",
    "\n",
    "\n",
    "\n",
    "\n",
    "\n",
    "# thresholds = np.arange(0, 1, 0.001)\n",
    "\n",
    "def to_labels(pos_probs, threshold):\n",
    "    return (pos_probs >= threshold).astype('int')\n",
    "\n",
    "# yhat = yhat[:, 1]\n",
    "#fpr, tpr, thresholds = roc_curve(test_classes[0], yhat[0][:, 1])\n",
    "# idx_test = 0\n",
    "# for i in range(len(yhat)):\n",
    "#     fpr, tpr, thresholds = roc_curve(test_classes[i], yhat[i])\n",
    "#     J = tpr - fpr\n",
    "#     ix = tf.argmax(J)\n",
    "#     out.append(to_labels(yhat[i], thresholds[ix]))\n",
    "\n",
    "# scores = [f1_score(test_classes, to_labels(yhat, t), average='micro') for t in thresholds]\n",
    "\n",
    "# idx_scores= 0\n",
    "# for i in scores:\n",
    "#     out.append(to_labels(yhat[idx_scores], i))\n",
    "#     idx_scores += 1\n",
    "\n",
    "# s= f1_score([[0, 1, 1, 0, 0, 0, 1, 1, 1, 1, 0, 0, 1, 0, 0, 1, 0],\n",
    "#             [0, 1, 1, 0, 0, 0, 1, 1, 1, 1, 0, 0, 1, 0, 0, 1, 0]], \n",
    "#             [[0, 1, 1, 1, 1, 0, 1, 1, 1, 1, 0, 0, 1, 0, 0, 1, 0],\n",
    "#             [0, 1, 1, 0, 0, 0, 1, 1, 1, 1, 0, 0, 1, 0, 0, 1, 0]], average='micro') \n",
    "#precision, recall, thresholds = precision_recall_curve(test_classes[0], yhat[0])\n",
    "# thresholds\n",
    "\n",
    "# fscore = (2 * precision * recall) / (precision + recall)\n",
    "# ix = tf.argmax(fscore)\n",
    "# print('Best Threshold=%f, F-Score=%.3f' % (thresholds[ix], fscore[ix]))\n",
    "# thresholds\n",
    "df_tt = pd.DataFrame(data=yhat, columns=labels[1:].to_list())\n",
    "\n",
    "df_tt.indoor.values[0]\n",
    "precision, recall, thresholds = precision_recall_curve(test_df.indoor.values, df_tt.indoor.values)\n",
    "\n",
    "fscore = (2 * precision * recall) / (precision + recall)\n",
    "\n",
    "ix = tf.argmax(fscore)\n",
    "print('Best Threshold=%f, F-Score=%.3f' % (thresholds[ix], fscore[ix]))"
   ]
  },
  {
   "cell_type": "code",
   "execution_count": null,
   "metadata": {},
   "outputs": [],
   "source": [
    "model = tf.keras.models.load_model('test/model_b2_avg.h5')"
   ]
  },
  {
   "cell_type": "code",
   "execution_count": null,
   "metadata": {},
   "outputs": [],
   "source": [
    "test = list(test_df['classes'].values)\n",
    "test = np.array(test)"
   ]
  },
  {
   "cell_type": "code",
   "execution_count": null,
   "metadata": {},
   "outputs": [],
   "source": [
    "test_generator.reset()\n",
    "\n",
    "yhat = model.predict(test_generator)\n"
   ]
  },
  {
   "cell_type": "code",
   "execution_count": null,
   "metadata": {},
   "outputs": [],
   "source": [
    "# Compute ROC curve and ROC area for each class\n",
    "fpr = dict()\n",
    "tpr = dict()\n",
    "roc_auc = dict()\n",
    "for i in range(17):\n",
    "    fpr[i], tpr[i], _ = roc_curve(test[:, i], yhat[:, i])\n",
    "    print( tpr[i])\n",
    "    roc_auc[i] = auc(fpr[i], tpr[i])\n",
    "\n",
    "# Compute micro-average ROC curve and ROC area\n",
    "fpr[\"micro\"], tpr[\"micro\"], _ = roc_curve(test.ravel(), yhat.ravel())\n",
    "roc_auc[\"micro\"] = auc(fpr[\"micro\"], tpr[\"micro\"])"
   ]
  },
  {
   "cell_type": "code",
   "execution_count": null,
   "metadata": {},
   "outputs": [],
   "source": [
    "df_tt = pd.DataFrame(data=yhat, columns=labels[1:].to_list())"
   ]
  },
  {
   "cell_type": "code",
   "execution_count": null,
   "metadata": {},
   "outputs": [],
   "source": [
    "thresholds_dict = {}\n",
    "\n",
    "for i in labels[1:]:\n",
    "    precision, recall, thresholds = precision_recall_curve(test_df[i].values, df_tt[i].values)\n",
    "    fscore = (2 * precision * recall) / (precision + recall)\n",
    "    ix = tf.argmax(fscore)\n",
    "    thresholds_dict[i] = thresholds[ix]"
   ]
  },
  {
   "cell_type": "code",
   "execution_count": null,
   "metadata": {},
   "outputs": [],
   "source": [
    "for i in thresholds_dict:\n",
    "    df_tt[i] = df_tt[i].map(lambda x: 1 if x > thresholds_dict[i] else 0)"
   ]
  },
  {
   "cell_type": "code",
   "execution_count": null,
   "metadata": {},
   "outputs": [],
   "source": [
    "df_tt['file_name'] = test_df['file_name']\n",
    "\n",
    "df_tt.to_csv('./test/test.eval_b2_1.txt', index=None, sep=' ')"
   ]
  },
  {
   "cell_type": "code",
   "execution_count": null,
   "metadata": {},
   "outputs": [],
   "source": [
    "yhat = (yhat > 0.5).astype(\"int32\")\n"
   ]
  },
  {
   "cell_type": "code",
   "execution_count": null,
   "metadata": {},
   "outputs": [],
   "source": [
    "df_out = pd.DataFrame(data=out, columns=labels[1:].to_list())\n",
    "df_out['file_name'] = test_df['file_name']"
   ]
  },
  {
   "cell_type": "code",
   "execution_count": null,
   "metadata": {},
   "outputs": [],
   "source": [
    "test_classes[0]"
   ]
  },
  {
   "cell_type": "code",
   "execution_count": null,
   "metadata": {},
   "outputs": [],
   "source": [
    "df_out.to_csv('./test/test.eval.txt', index=None, sep=' ')"
   ]
  },
  {
   "cell_type": "code",
   "execution_count": null,
   "metadata": {},
   "outputs": [],
   "source": [
    "import tensorflow_addons as tfa"
   ]
  },
  {
   "cell_type": "code",
   "execution_count": null,
   "metadata": {},
   "outputs": [],
   "source": [
    "import math\n",
    "def create_class_weight(labels_dict,mu=0.15):\n",
    "    total = sum(labels_dict.values())\n",
    "    keys = labels_dict.keys()\n",
    "    class_weight = dict()\n",
    "\n",
    "    for key in keys:\n",
    "        value = float(labels_dict[key])\n",
    "        score = math.log(mu*total/value)\n",
    "        class_weight[key] = score if score > 1.0 else 1.0\n",
    "\n",
    "    return class_weight"
   ]
  },
  {
   "cell_type": "code",
   "execution_count": null,
   "metadata": {},
   "outputs": [],
   "source": []
  },
  {
   "cell_type": "code",
   "execution_count": null,
   "metadata": {},
   "outputs": [],
   "source": [
    "class_weights = {}\n",
    "\n",
    "index = 0\n",
    "train_size = len(train_df)\n",
    "\n",
    "for column in train_df:\n",
    "    if train_df[column].name != 'file_name' and train_df[column].name != 'classes':\n",
    "        class_weights[index] = len(train_df[train_df[column] == 1])\n",
    "        index += 1"
   ]
  },
  {
   "cell_type": "code",
   "execution_count": null,
   "metadata": {},
   "outputs": [],
   "source": []
  },
  {
   "cell_type": "code",
   "execution_count": null,
   "metadata": {},
   "outputs": [],
   "source": [
    "create_class_weight(class_weights)"
   ]
  },
  {
   "cell_type": "code",
   "execution_count": null,
   "metadata": {},
   "outputs": [],
   "source": [
    "plot()"
   ]
  },
  {
   "cell_type": "code",
   "execution_count": null,
   "metadata": {},
   "outputs": [],
   "source": [
    "0.25 * class_weights[0]"
   ]
  },
  {
   "cell_type": "code",
   "execution_count": null,
   "metadata": {},
   "outputs": [],
   "source": [
    "thresholds = np.arange(0, 1, 0.001)\n",
    "\n",
    "thresholds_dict2 = {}\n",
    "# apply threshold to positive probabilities to create labels\n",
    "def to_labels(pos_probs, threshold):\n",
    "    return (pos_probs >= threshold).astype('int')\n",
    "\n",
    "for i in labels[1:]:\n",
    "    scores = [f1_score(test_df[i].values, to_labels(df_tt[i].values, t)) for t in thresholds]\n",
    "\n",
    "    ix = tf.argmax(scores)\n",
    "    thresholds_dict2[i] = thresholds[ix]"
   ]
  },
  {
   "cell_type": "code",
   "execution_count": null,
   "metadata": {},
   "outputs": [],
   "source": [
    "thresholds_dict2"
   ]
  },
  {
   "cell_type": "code",
   "execution_count": null,
   "metadata": {},
   "outputs": [],
   "source": [
    "for i in thresholds_dict2:\n",
    "    df_tt[i] = df_tt[i].map(lambda x: 1 if x > thresholds_dict2[i] else 0)\n",
    "    \n",
    "df_tt['file_name'] = test_df['file_name']\n",
    "\n",
    "df_tt.to_csv('./test/test.eval_b2_1.txt', index=None, sep=' ')"
   ]
  },
  {
   "cell_type": "code",
   "execution_count": null,
   "metadata": {},
   "outputs": [],
   "source": [
    "thresholds_dict3 = {}\n",
    "\n",
    "for i in labels[1:]:\n",
    "    # calculate roc curves\n",
    "    fpr, tpr, thresholds = roc_curve(test_df[i].values, df_tt[i].values)\n",
    "    # get the best threshold\n",
    "    J = tpr - fpr\n",
    "    ix = tf.argmax(J)\n",
    "    best_thresh = thresholds[ix]\n",
    "    thresholds_dict3[i] = best_thresh\n",
    "    \n"
   ]
  },
  {
   "cell_type": "code",
   "execution_count": null,
   "metadata": {},
   "outputs": [],
   "source": [
    "thresholds_dict3"
   ]
  },
  {
   "cell_type": "code",
   "execution_count": null,
   "metadata": {},
   "outputs": [],
   "source": [
    "for i in thresholds_dict3:\n",
    "    df_tt[i] = df_tt[i].map(lambda x: 1 if x > thresholds_dict3[i] else 0)\n",
    "    \n",
    "df_tt['file_name'] = test_df['file_name']\n",
    "\n",
    "df_tt.to_csv('./test/test.eval_b2_1.txt', index=None, sep=' ')"
   ]
  },
  {
   "cell_type": "code",
   "execution_count": null,
   "metadata": {},
   "outputs": [],
   "source": [
    "len(train_df[train_df['indoor'] == 1]) / train_size"
   ]
  },
  {
   "cell_type": "markdown",
   "metadata": {},
   "source": [
    "### References"
   ]
  },
  {
   "cell_type": "markdown",
   "metadata": {},
   "source": [
    "<a id='1'>[1]</a>   ImageCLEF. <i>ImageCLEF 2008: Visual Concept Detection Task.</i> URL:https://www.imageclef.org/2008/vcdt.\n",
    "\n",
    "<a id='2'>[2]</a>   Tensorflow. <i>Tensorflow.</i> URL:https://www.tensorflow.org/about\n",
    "\n",
    "<a id='3'>[3]</a>   SMOTETomek. <i>imbalanced-learn.</i> URL:https://imbalanced-learn.readthedocs.io/en/stable/generated/imblearn.combine.SMOTETomek.html"
   ]
  },
  {
   "cell_type": "code",
   "execution_count": null,
   "metadata": {},
   "outputs": [],
   "source": []
  }
 ],
 "metadata": {
  "kernelspec": {
   "display_name": "Python 3",
   "language": "python",
   "name": "python3"
  },
  "language_info": {
   "codemirror_mode": {
    "name": "ipython",
    "version": 3
   },
   "file_extension": ".py",
   "mimetype": "text/x-python",
   "name": "python",
   "nbconvert_exporter": "python",
   "pygments_lexer": "ipython3",
   "version": "3.8.5"
  }
 },
 "nbformat": 4,
 "nbformat_minor": 4
}
